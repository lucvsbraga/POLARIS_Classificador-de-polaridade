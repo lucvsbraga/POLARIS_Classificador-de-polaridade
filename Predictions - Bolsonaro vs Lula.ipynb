{
 "cells": [
  {
   "cell_type": "markdown",
   "id": "dbfce391",
   "metadata": {},
   "source": [
    "# Bolsonaro vs Lula\n",
    "\n",
    "Este estudo é uma análise de sentimento de tweets coletados contentado a palavra Bolsonaro, Lula e ambos. O intuito é aproveitar este momento de início da campanha eleitoral e realizar um tipo de termômetro do que é falado a respeito dos candidatos no Twitter.\n",
    "\n",
    "Não é de interesse deste experimento fazer campanha para algum candidato ou contra este."
   ]
  },
  {
   "cell_type": "markdown",
   "id": "7d6862a2",
   "metadata": {},
   "source": [
    "## IMPORTS"
   ]
  },
  {
   "cell_type": "code",
   "execution_count": 1,
   "id": "94456f8f",
   "metadata": {},
   "outputs": [],
   "source": [
    "import pandas as pd\n",
    "import re\n",
    "from wordcloud import WordCloud\n",
    "import matplotlib.pyplot as plt\n",
    "from string import punctuation\n",
    "import joblib\n",
    "from nltk import tokenize\n",
    "import nltk\n",
    "from string import punctuation\n",
    "from unidecode import unidecode\n",
    "import unidecode\n",
    "from sklearn.feature_extraction.text import TfidfVectorizer\n",
    "import pickle"
   ]
  },
  {
   "cell_type": "markdown",
   "metadata": {},
   "source": [
    "## Carregando o modelo"
   ]
  },
  {
   "cell_type": "code",
   "execution_count": 4,
   "metadata": {},
   "outputs": [],
   "source": [
    "modelo = joblib.load('./model/nb_predictor.joblib')\n",
    "with open('./model/tfidf.pkl', 'rb') as file:\n",
    "    feature_vocabulary = pickle.load(file)"
   ]
  },
  {
   "cell_type": "code",
   "execution_count": 5,
   "metadata": {},
   "outputs": [],
   "source": [
    "import pickle\n",
    "\n",
    "# Load the feature vocabulary from feature.pkl\n",
    "with open('./model/tfidf.pkl', 'rb') as file:\n",
    "    feature_vocabulary = pickle.load(file)\n",
    "\n",
    "# Now, feature_vocabulary contains the vocabulary from feature.pkl\n",
    "tfidf = TfidfVectorizer()\n",
    "vidf = tfidf.fit_transform(feature_vocabulary)"
   ]
  },
  {
   "cell_type": "markdown",
   "metadata": {},
   "source": [
    "## FUNÇÕES"
   ]
  },
  {
   "cell_type": "markdown",
   "metadata": {},
   "source": [
    "### Limpando chars "
   ]
  },
  {
   "cell_type": "code",
   "execution_count": 13,
   "metadata": {},
   "outputs": [],
   "source": [
    "\n",
    "def limpando_chars(text):\n",
    "    text = re.sub(r'@[A-Za-z0-9]+', '', text) # Removendo menções\n",
    "    text = re.sub(r'#\\w+', '', text) # Removendo #hashtags\n",
    "    text = re.sub(r'#', '', text)\n",
    "    text = re.sub(r'\\r', '', text)\n",
    "    text = re.sub(r'\\n', '', text)\n",
    "    text = re.sub(r'_', '', text)\n",
    "    text = re.sub(r'RT[\\s]+', '', text)\n",
    "    text = re.sub(r'https?:\\/\\/\\S+', '', text)\n",
    "    text = re.sub(r'\\n', '', text)\n",
    "    text = text.lower()\n",
    "    return text\n"
   ]
  },
  {
   "cell_type": "markdown",
   "metadata": {},
   "source": [
    "### Porcessar texto"
   ]
  },
  {
   "cell_type": "code",
   "execution_count": 6,
   "metadata": {},
   "outputs": [],
   "source": [
    "def processar_texto(texto):\n",
    "    stemmer = nltk.RSLPStemmer()\n",
    "    stopwords = nltk.corpus.stopwords.words('portuguese')\n",
    "    texto = re.sub(r'@[A-Za-z0-9]+', '', texto) # Removendo menções\n",
    "    texto = re.sub(r'#\\w+', '', texto) # Removendo #hashtags\n",
    "    texto = re.sub(r'#', '', texto)\n",
    "    texto = re.sub(r'_', '', texto)\n",
    "    texto = re.sub(r'RT[\\s]+', '', texto)\n",
    "    texto = re.sub(r'https?:\\/\\/\\S+', '', texto)\n",
    "    texto = re.sub(r'\\n', '', texto)\n",
    "    pontuacao = []\n",
    "    for ponto in punctuation:\n",
    "        pontuacao.append(ponto)\n",
    "    # Remove caracteres especiais\n",
    "    texto = re.sub(r'[^\\w\\s]', '', texto)\n",
    "    # Converte para minúsculas\n",
    "    texto = texto.lower()\n",
    "    texto = [stemmer.stem(palavra) for palavra in texto.split() if palavra not in stopwords]\n",
    "    # Une acentos\n",
    "    texto = [unidecode.unidecode(palavra) for palavra in texto]\n",
    "    return ' '.join(texto)"
   ]
  },
  {
   "cell_type": "markdown",
   "metadata": {},
   "source": [
    "### Predict it"
   ]
  },
  {
   "cell_type": "code",
   "execution_count": 8,
   "metadata": {},
   "outputs": [],
   "source": [
    "def predict_it(frase):\n",
    "    # Aplica a função de pré-processamento\n",
    "    texto_processado = processar_texto(frase)\n",
    "    # Transforma o texto em um vetor TF-IDF\n",
    "    vetor_tfidf = tfidf.transform([texto_processado])\n",
    "    # Prevê a classificação da frase\n",
    "    previsao = modelo.predict(vetor_tfidf)\n",
    "    probabilidades = modelo.predict_proba(vetor_tfidf).astype('float')[0]\n",
    "    pos = probabilidades[1]\n",
    "    neg = probabilidades[0]\n",
    "    if pos < 0.51 and neg < 0.51:\n",
    "        return 'Neutro'\n",
    "    else:\n",
    "        return previsao.astype('str')[0]"
   ]
  },
  {
   "cell_type": "markdown",
   "id": "2f723c77",
   "metadata": {},
   "source": [
    "## Import tweets Bolsonaro"
   ]
  },
  {
   "cell_type": "code",
   "execution_count": 9,
   "id": "e8b81d18",
   "metadata": {},
   "outputs": [],
   "source": [
    "# Crie uma lista com os nomes dos arquivos CSV.\n",
    "arquivos = [f\"./SNScraper_Data/Bolsonaro-{i}.csv\" for i in range(1, 32)]\n",
    "\n",
    "# Crie um dataframe vazio.\n",
    "dfBolsonaro = pd.DataFrame()\n",
    "\n",
    "# Concatena os arquivos CSV em um único dataframe.\n",
    "dfBolsonaro = pd.concat([pd.read_csv(arquivo) for arquivo in arquivos])\n",
    "\n",
    "dfBolsonaro['Candidato'] = 'Bolsonaro'\n"
   ]
  },
  {
   "cell_type": "markdown",
   "id": "dd118f84",
   "metadata": {},
   "source": [
    "## Import tweets Lula"
   ]
  },
  {
   "cell_type": "code",
   "execution_count": 10,
   "id": "71e5726c",
   "metadata": {},
   "outputs": [],
   "source": [
    "# Crie uma lista com os nomes dos arquivos CSV.\n",
    "arquivos = [f\"./SNScraper_Data/Lula-{i}.csv\" for i in range(1, 32)]\n",
    "\n",
    "# Crie um dataframe vazio.\n",
    "dfLula = pd.DataFrame(index=None)\n",
    "\n",
    "# Concatena os arquivos CSV em um único dataframe.\n",
    "dfLula = pd.concat([pd.read_csv(arquivo) for arquivo in arquivos])\n",
    "\n",
    "dfLula['Candidato'] = 'Lula'\n"
   ]
  },
  {
   "cell_type": "markdown",
   "metadata": {},
   "source": [
    "## Concatenando DF's"
   ]
  },
  {
   "cell_type": "code",
   "execution_count": 11,
   "id": "cfb315b6",
   "metadata": {},
   "outputs": [],
   "source": [
    "\n",
    "dfs = [dfBolsonaro, dfLula]\n",
    "df = pd.concat(dfs, ignore_index=True)\n",
    "df = df[['Data', 'User', 'Texto', 'Candidato']]"
   ]
  },
  {
   "cell_type": "code",
   "execution_count": 14,
   "metadata": {},
   "outputs": [],
   "source": [
    "df['pre-processed'] = df['Texto'].apply(limpando_chars)\n",
    "dfBolsonaro['pre-processed'] = dfBolsonaro['Texto'].apply(limpando_chars)\n",
    "dfLula['pre-processed'] = dfLula['Texto'].apply(limpando_chars)"
   ]
  },
  {
   "cell_type": "code",
   "execution_count": null,
   "metadata": {},
   "outputs": [],
   "source": []
  },
  {
   "cell_type": "markdown",
   "metadata": {},
   "source": [
    "## REALIZANDO PREDIÇÃO"
   ]
  },
  {
   "cell_type": "code",
   "execution_count": 15,
   "metadata": {},
   "outputs": [],
   "source": [
    "df['Sentimento'] = df['Texto'].apply(predict_it)"
   ]
  },
  {
   "cell_type": "code",
   "execution_count": 18,
   "metadata": {},
   "outputs": [
    {
     "data": {
      "text/html": [
       "<div>\n",
       "<style scoped>\n",
       "    .dataframe tbody tr th:only-of-type {\n",
       "        vertical-align: middle;\n",
       "    }\n",
       "\n",
       "    .dataframe tbody tr th {\n",
       "        vertical-align: top;\n",
       "    }\n",
       "\n",
       "    .dataframe thead th {\n",
       "        text-align: right;\n",
       "    }\n",
       "</style>\n",
       "<table border=\"1\" class=\"dataframe\">\n",
       "  <thead>\n",
       "    <tr style=\"text-align: right;\">\n",
       "      <th></th>\n",
       "      <th>Data</th>\n",
       "      <th>User</th>\n",
       "      <th>Texto</th>\n",
       "      <th>Candidato</th>\n",
       "      <th>pre-processed</th>\n",
       "      <th>Sentimento</th>\n",
       "    </tr>\n",
       "  </thead>\n",
       "  <tbody>\n",
       "    <tr>\n",
       "      <th>0</th>\n",
       "      <td>2022-10-01 23:59:59+00:00</td>\n",
       "      <td>grandalsavino</td>\n",
       "      <td>Aqui no Paranoá vou assim...\\r\\n@DenianCouto @...</td>\n",
       "      <td>Bolsonaro</td>\n",
       "      <td>aqui no paranoá vou assim...</td>\n",
       "      <td>Negativo</td>\n",
       "    </tr>\n",
       "    <tr>\n",
       "      <th>1</th>\n",
       "      <td>2022-10-01 23:59:59+00:00</td>\n",
       "      <td>HellendaRochaV1</td>\n",
       "      <td>@denisoon_ Meus primos que nunca trabalharam n...</td>\n",
       "      <td>Bolsonaro</td>\n",
       "      <td>meus primos que nunca trabalharam na vida são...</td>\n",
       "      <td>Positivo</td>\n",
       "    </tr>\n",
       "    <tr>\n",
       "      <th>2</th>\n",
       "      <td>2022-10-01 23:59:58+00:00</td>\n",
       "      <td>antunes_shirlei</td>\n",
       "      <td>@Doutorapetista @lovato_po @jairbolsonaro @man...</td>\n",
       "      <td>Bolsonaro</td>\n",
       "      <td>po   q horror chamar uma pessoa de câncer. el...</td>\n",
       "      <td>Negativo</td>\n",
       "    </tr>\n",
       "    <tr>\n",
       "      <th>3</th>\n",
       "      <td>2022-10-01 23:59:58+00:00</td>\n",
       "      <td>EstranhoDemais1</td>\n",
       "      <td>@Marisete1982 @Fa1ryNight A luta é constante, ...</td>\n",
       "      <td>Bolsonaro</td>\n",
       "      <td>a luta é constante, mas venceremos, fé em de...</td>\n",
       "      <td>Positivo</td>\n",
       "    </tr>\n",
       "    <tr>\n",
       "      <th>4</th>\n",
       "      <td>2022-10-01 23:59:58+00:00</td>\n",
       "      <td>riosvida6</td>\n",
       "      <td>Porque votar em Jair Bolsonaro neste domingo h...</td>\n",
       "      <td>Bolsonaro</td>\n",
       "      <td>porque votar em jair bolsonaro neste domingo</td>\n",
       "      <td>Negativo</td>\n",
       "    </tr>\n",
       "  </tbody>\n",
       "</table>\n",
       "</div>"
      ],
      "text/plain": [
       "                        Data             User  \\\n",
       "0  2022-10-01 23:59:59+00:00    grandalsavino   \n",
       "1  2022-10-01 23:59:59+00:00  HellendaRochaV1   \n",
       "2  2022-10-01 23:59:58+00:00  antunes_shirlei   \n",
       "3  2022-10-01 23:59:58+00:00  EstranhoDemais1   \n",
       "4  2022-10-01 23:59:58+00:00        riosvida6   \n",
       "\n",
       "                                               Texto  Candidato  \\\n",
       "0  Aqui no Paranoá vou assim...\\r\\n@DenianCouto @...  Bolsonaro   \n",
       "1  @denisoon_ Meus primos que nunca trabalharam n...  Bolsonaro   \n",
       "2  @Doutorapetista @lovato_po @jairbolsonaro @man...  Bolsonaro   \n",
       "3  @Marisete1982 @Fa1ryNight A luta é constante, ...  Bolsonaro   \n",
       "4  Porque votar em Jair Bolsonaro neste domingo h...  Bolsonaro   \n",
       "\n",
       "                                       pre-processed Sentimento  \n",
       "0                  aqui no paranoá vou assim...        Negativo  \n",
       "1   meus primos que nunca trabalharam na vida são...   Positivo  \n",
       "2   po   q horror chamar uma pessoa de câncer. el...   Negativo  \n",
       "3    a luta é constante, mas venceremos, fé em de...   Positivo  \n",
       "4      porque votar em jair bolsonaro neste domingo    Negativo  "
      ]
     },
     "execution_count": 18,
     "metadata": {},
     "output_type": "execute_result"
    }
   ],
   "source": [
    "df.head()"
   ]
  }
 ],
 "metadata": {
  "kernelspec": {
   "display_name": "Python 3 (ipykernel)",
   "language": "python",
   "name": "python3"
  },
  "language_info": {
   "codemirror_mode": {
    "name": "ipython",
    "version": 3
   },
   "file_extension": ".py",
   "mimetype": "text/x-python",
   "name": "python",
   "nbconvert_exporter": "python",
   "pygments_lexer": "ipython3",
   "version": "3.11.6"
  },
  "vscode": {
   "interpreter": {
    "hash": "916dbcbb3f70747c44a77c7bcd40155683ae19c65e1c03b4aa3499c5328201f1"
   }
  }
 },
 "nbformat": 4,
 "nbformat_minor": 5
}
