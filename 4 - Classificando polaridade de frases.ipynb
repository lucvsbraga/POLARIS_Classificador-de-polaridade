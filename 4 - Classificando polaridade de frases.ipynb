{
 "cells": [
  {
   "cell_type": "markdown",
   "id": "dbfce391",
   "metadata": {},
   "source": [
    "# Classificações do modelo"
   ]
  },
  {
   "cell_type": "markdown",
   "id": "7d6862a2",
   "metadata": {},
   "source": [
    "## IMPORTS"
   ]
  },
  {
   "cell_type": "code",
   "execution_count": 1,
   "id": "94456f8f",
   "metadata": {},
   "outputs": [],
   "source": [
    "import re\n",
    "from string import punctuation\n",
    "import joblib\n",
    "import nltk\n",
    "from string import punctuation\n",
    "from unidecode import unidecode\n",
    "import unidecode\n",
    "from sklearn.feature_extraction.text import TfidfVectorizer\n",
    "import pickle"
   ]
  },
  {
   "cell_type": "markdown",
   "metadata": {},
   "source": [
    "## Carregando o modelo"
   ]
  },
  {
   "cell_type": "code",
   "execution_count": 2,
   "metadata": {},
   "outputs": [],
   "source": [
    "modelo = joblib.load('./model/nb_predictor.joblib');\n",
    "with open('./model/tfidf.pkl', 'rb') as file:\n",
    "    feature_vocabulary = pickle.load(file);"
   ]
  },
  {
   "cell_type": "code",
   "execution_count": 3,
   "metadata": {},
   "outputs": [],
   "source": [
    "# Load the feature vocabulary from feature.pkl\n",
    "with open('./model/tfidf.pkl', 'rb') as file:\n",
    "    feature_vocabulary = pickle.load(file)\n",
    "\n",
    "# Now, feature_vocabulary contains the vocabulary from feature.pkl\n",
    "tfidf = TfidfVectorizer()\n",
    "vidf = tfidf.fit_transform(feature_vocabulary)"
   ]
  },
  {
   "cell_type": "markdown",
   "metadata": {},
   "source": [
    "## FUNÇÕES"
   ]
  },
  {
   "cell_type": "markdown",
   "metadata": {},
   "source": [
    "### Porcessar texto"
   ]
  },
  {
   "cell_type": "code",
   "execution_count": 4,
   "metadata": {},
   "outputs": [],
   "source": [
    "def processar_texto(texto):\n",
    "    stemmer = nltk.RSLPStemmer()\n",
    "    stopwords = nltk.corpus.stopwords.words('portuguese')\n",
    "    texto = re.sub(r'@[A-Za-z0-9]+', '', texto) # Removendo menções\n",
    "    texto = re.sub(r'#\\w+', '', texto) # Removendo #hashtags\n",
    "    texto = re.sub(r'#', '', texto)\n",
    "    texto = re.sub(r'_', '', texto)\n",
    "    texto = re.sub(r'RT[\\s]+', '', texto)\n",
    "    texto = re.sub(r'https?:\\/\\/\\S+', '', texto)\n",
    "    texto = re.sub(r'\\n', '', texto)\n",
    "    pontuacao = []\n",
    "    for ponto in punctuation:\n",
    "        pontuacao.append(ponto)\n",
    "    # Remove caracteres especiais\n",
    "    texto = re.sub(r'[^\\w\\s]', '', texto)\n",
    "    # Converte para minúsculas\n",
    "    texto = texto.lower()\n",
    "    texto = [stemmer.stem(palavra) for palavra in texto.split() if palavra not in stopwords]\n",
    "    # Une acentos\n",
    "    texto = [unidecode.unidecode(palavra) for palavra in texto]\n",
    "    return ' '.join(texto)"
   ]
  },
  {
   "cell_type": "markdown",
   "metadata": {},
   "source": [
    "### Predict it"
   ]
  },
  {
   "cell_type": "code",
   "execution_count": 5,
   "metadata": {},
   "outputs": [],
   "source": [
    "def predict_it(frase):\n",
    "    # Aplica a função de pré-processamento\n",
    "    texto_processado = processar_texto(frase)\n",
    "    # Transforma o texto em um vetor TF-IDF\n",
    "    vetor_tfidf = tfidf.transform([texto_processado])\n",
    "    # Prevê a classificação da frase\n",
    "    previsao = modelo.predict(vetor_tfidf)\n",
    "    probabilidades = modelo.predict_proba(vetor_tfidf).astype('float')[0]\n",
    "    pos = probabilidades[1]\n",
    "    neg = probabilidades[0]\n",
    "    if pos < 0.51 and neg < 0.51:\n",
    "        return 'Neutro'\n",
    "    else:\n",
    "        return previsao.astype('str')[0]"
   ]
  },
  {
   "cell_type": "markdown",
   "metadata": {},
   "source": [
    "### Fazendo predições"
   ]
  },
  {
   "cell_type": "code",
   "execution_count": 6,
   "id": "d50f6994",
   "metadata": {},
   "outputs": [
    {
     "data": {
      "text/plain": [
       "np.str_('Negativo')"
      ]
     },
     "execution_count": 6,
     "metadata": {},
     "output_type": "execute_result"
    }
   ],
   "source": [
    "predict_it('Eu odeio overfitting.')"
   ]
  },
  {
   "cell_type": "code",
   "execution_count": 7,
   "id": "7c02f9bf",
   "metadata": {},
   "outputs": [
    {
     "data": {
      "text/plain": [
       "np.str_('Positivo')"
      ]
     },
     "execution_count": 7,
     "metadata": {},
     "output_type": "execute_result"
    }
   ],
   "source": [
    "predict_it('Parabéns, você foi selecionado no nosso processo seletivo.')"
   ]
  }
 ],
 "metadata": {
  "kernelspec": {
   "display_name": "Python 3",
   "language": "python",
   "name": "python3"
  },
  "language_info": {
   "codemirror_mode": {
    "name": "ipython",
    "version": 3
   },
   "file_extension": ".py",
   "mimetype": "text/x-python",
   "name": "python",
   "nbconvert_exporter": "python",
   "pygments_lexer": "ipython3",
   "version": "3.12.2"
  }
 },
 "nbformat": 4,
 "nbformat_minor": 5
}
