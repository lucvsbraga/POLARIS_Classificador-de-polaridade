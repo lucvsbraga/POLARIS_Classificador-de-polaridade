{
 "cells": [
  {
   "cell_type": "markdown",
   "id": "dbfce391",
   "metadata": {},
   "source": [
    "# Predições do modelo"
   ]
  },
  {
   "cell_type": "markdown",
   "id": "7d6862a2",
   "metadata": {},
   "source": [
    "## IMPORTS"
   ]
  },
  {
   "cell_type": "code",
   "execution_count": 1,
   "id": "94456f8f",
   "metadata": {},
   "outputs": [],
   "source": [
    "import pandas as pd\n",
    "import re\n",
    "from string import punctuation\n",
    "import joblib\n",
    "import nltk\n",
    "from string import punctuation\n",
    "from unidecode import unidecode\n",
    "import unidecode\n",
    "from sklearn.feature_extraction.text import TfidfVectorizer\n",
    "import pickle"
   ]
  },
  {
   "cell_type": "markdown",
   "metadata": {},
   "source": [
    "## Carregando o modelo"
   ]
  },
  {
   "cell_type": "code",
   "execution_count": 2,
   "metadata": {},
   "outputs": [],
   "source": [
    "modelo = joblib.load('./model/nb_predictor.joblib')\n",
    "with open('./model/tfidf.pkl', 'rb') as file:\n",
    "    feature_vocabulary = pickle.load(file)"
   ]
  },
  {
   "cell_type": "code",
   "execution_count": 3,
   "metadata": {},
   "outputs": [],
   "source": [
    "# Load the feature vocabulary from feature.pkl\n",
    "with open('./model/tfidf.pkl', 'rb') as file:\n",
    "    feature_vocabulary = pickle.load(file)\n",
    "\n",
    "# Now, feature_vocabulary contains the vocabulary from feature.pkl\n",
    "tfidf = TfidfVectorizer()\n",
    "vidf = tfidf.fit_transform(feature_vocabulary)"
   ]
  },
  {
   "cell_type": "markdown",
   "metadata": {},
   "source": [
    "## FUNÇÕES"
   ]
  },
  {
   "cell_type": "markdown",
   "metadata": {},
   "source": [
    "### Porcessar texto"
   ]
  },
  {
   "cell_type": "code",
   "execution_count": 4,
   "metadata": {},
   "outputs": [],
   "source": [
    "def processar_texto(texto):\n",
    "    stemmer = nltk.RSLPStemmer()\n",
    "    stopwords = nltk.corpus.stopwords.words('portuguese')\n",
    "    texto = re.sub(r'@[A-Za-z0-9]+', '', texto) # Removendo menções\n",
    "    texto = re.sub(r'#\\w+', '', texto) # Removendo #hashtags\n",
    "    texto = re.sub(r'#', '', texto)\n",
    "    texto = re.sub(r'_', '', texto)\n",
    "    texto = re.sub(r'RT[\\s]+', '', texto)\n",
    "    texto = re.sub(r'https?:\\/\\/\\S+', '', texto)\n",
    "    texto = re.sub(r'\\n', '', texto)\n",
    "    pontuacao = []\n",
    "    for ponto in punctuation:\n",
    "        pontuacao.append(ponto)\n",
    "    # Remove caracteres especiais\n",
    "    texto = re.sub(r'[^\\w\\s]', '', texto)\n",
    "    # Converte para minúsculas\n",
    "    texto = texto.lower()\n",
    "    texto = [stemmer.stem(palavra) for palavra in texto.split() if palavra not in stopwords]\n",
    "    # Une acentos\n",
    "    texto = [unidecode.unidecode(palavra) for palavra in texto]\n",
    "    return ' '.join(texto)"
   ]
  },
  {
   "cell_type": "markdown",
   "metadata": {},
   "source": [
    "### Predict it"
   ]
  },
  {
   "cell_type": "code",
   "execution_count": 5,
   "metadata": {},
   "outputs": [],
   "source": [
    "def predict_it(frase):\n",
    "    # Aplica a função de pré-processamento\n",
    "    texto_processado = processar_texto(frase)\n",
    "    # Transforma o texto em um vetor TF-IDF\n",
    "    vetor_tfidf = tfidf.transform([texto_processado])\n",
    "    # Prevê a classificação da frase\n",
    "    previsao = modelo.predict(vetor_tfidf)\n",
    "    probabilidades = modelo.predict_proba(vetor_tfidf).astype('float')[0]\n",
    "    pos = probabilidades[1]\n",
    "    neg = probabilidades[0]\n",
    "    if pos < 0.51 and neg < 0.51:\n",
    "        return 'Neutro'\n",
    "    else:\n",
    "        return previsao.astype('str')[0]"
   ]
  },
  {
   "cell_type": "markdown",
   "metadata": {},
   "source": [
    "### Fazendo predições"
   ]
  },
  {
   "cell_type": "code",
   "execution_count": 8,
   "metadata": {},
   "outputs": [
    {
     "data": {
      "text/plain": [
       "'Positivo'"
      ]
     },
     "execution_count": 8,
     "metadata": {},
     "output_type": "execute_result"
    }
   ],
   "source": [
    "predict_it('eu amo gatos')"
   ]
  }
 ],
 "metadata": {
  "kernelspec": {
   "display_name": "Python 3 (ipykernel)",
   "language": "python",
   "name": "python3"
  },
  "language_info": {
   "codemirror_mode": {
    "name": "ipython",
    "version": 3
   },
   "file_extension": ".py",
   "mimetype": "text/x-python",
   "name": "python",
   "nbconvert_exporter": "python",
   "pygments_lexer": "ipython3",
   "version": "3.11.6"
  },
  "vscode": {
   "interpreter": {
    "hash": "916dbcbb3f70747c44a77c7bcd40155683ae19c65e1c03b4aa3499c5328201f1"
   }
  }
 },
 "nbformat": 4,
 "nbformat_minor": 5
}
